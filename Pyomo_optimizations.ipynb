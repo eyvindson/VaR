{
 "cells": [
  {
   "cell_type": "markdown",
   "metadata": {},
   "source": [
    "# Integrating risk management tools for regional forest planning: an interactive multiobjective value at risk approach"
   ]
  },
  {
   "cell_type": "markdown",
   "metadata": {},
   "source": [
    "## We demonstrate a method of incorporating multi-criteria decision making with stochastic programming"
   ]
  },
  {
   "cell_type": "markdown",
   "metadata": {},
   "source": [
    "### First import required packages"
   ]
  },
  {
   "cell_type": "code",
   "execution_count": 1,
   "metadata": {
    "collapsed": true
   },
   "outputs": [],
   "source": [
    "import pandas as pd\n",
    "import random\n",
    "from pyomo.environ import *\n",
    "import itertools\n",
    "from pyomo.opt import SolverFactory\n",
    "import numpy as np\n"
   ]
  },
  {
   "cell_type": "markdown",
   "metadata": {},
   "source": [
    "### Import the data"
   ]
  },
  {
   "cell_type": "code",
   "execution_count": 2,
   "metadata": {
    "collapsed": false
   },
   "outputs": [],
   "source": [
    "forest_data = pd.read_csv(\"INCOME_BD_DATA.dat\",index_col=False)"
   ]
  },
  {
   "cell_type": "code",
   "execution_count": 3,
   "metadata": {
    "collapsed": false,
    "scrolled": false
   },
   "outputs": [],
   "source": [
    "#Shuffles simulations, so that we have different inventory errors for different simulations. \n",
    "#As this is a random process, each iteration will produce slightly different results\n",
    "#An error occurs, as we are vopying over data\n",
    "b = list(range(0,25))\n",
    "for i in forest_data.ID.unique():\n",
    "    random.shuffle(b)\n",
    "    c = len(forest_data.SIMULATION[forest_data[\"ID\"]==i])\n",
    "    c = c/25 #number of branches\n",
    "    forest_data.SIMULATION[forest_data[\"ID\"]== i] = b*int(c)\n",
    "\n",
    "#Generate a list of stands based on the forest data\n",
    "stands = set(forest_data[\"ID\"])\n",
    "\n",
    "#Generate a list of options for each stand, each stand has different management schedules possible.\n",
    "options = {}\n",
    "for stand in stands:\n",
    "    options[stand] =list(set(forest_data[(forest_data[\"ID\"] == stand)][\"BRANCH\"]))\n",
    "options_sims = set(forest_data[\"SIMULATION\"])\n",
    "\n",
    "#Lists of the key elements we are going to examine.\n",
    "income_periods = [\"First Period (EUR)\",\"Second Period (EUR)\",\"Third Period (EUR)\",\"Fourth Period (EUR)\",\n",
    "                  \"Fifth Period (EUR)\",\"Sixth Period (EUR)\"]\n",
    "biodiversity_periods = [\"First Period (BIO)\",\"Second Period (BIO)\",\"Third Period (BIO)\",\"Fourth Period (BIO)\",\n",
    "                       \"Fifth Period (BIO)\",\"Sixth Period (BIO)\"]"
   ]
  },
  {
   "cell_type": "markdown",
   "metadata": {},
   "source": [
    "# Create the optimization model"
   ]
  },
  {
   "cell_type": "markdown",
   "metadata": {},
   "source": [
    "## Initialize model and create variables"
   ]
  },
  {
   "cell_type": "code",
   "execution_count": 4,
   "metadata": {
    "collapsed": false
   },
   "outputs": [],
   "source": [
    "model = ConcreteModel()\n",
    "\n",
    "#Alternatives to be chosen\n",
    "model.alternative= Var(set(forest_data.index.values),bounds=(0,1),domain=NonNegativeReals)\n",
    "\n",
    "#Which simulations are to be relaxed\n",
    "model.relaxationIncome = Var(options_sims,domain=Binary)\n",
    "model.relaxationBiodiversity = Var(options_sims,domain=Binary)\n",
    "relaxationNO = 100000.0\n",
    "\n",
    "#Min income and biodiversity (over periods) for all simulations\n",
    "model.minIncome = Var(options_sims)\n",
    "model.minBiodiversity = Var(options_sims)\n",
    "\n",
    "#Relaxed min income and biodiversity \n",
    "model.minIncomeRelaxed = Var()\n",
    "model.minBiodiversityRelaxed = Var()\n",
    "\n",
    "#A help variable for getting the min income in all simulations that are not relaxed\n",
    "model.minIncomeRelaxed_all = Var(options_sims)\n",
    "model.minBiodiversityRelaxed_all = Var(options_sims)\n",
    "\n",
    "#Risk i.e., the proportion of simulations relaxed from calculation, separately for income and biodiversity\n",
    "model.risk = Var(range(2),bounds=(0,0.999),domain=NonNegativeReals) #First risk for income, second for biodiversity\n",
    "\n",
    "#Finally the value of the ASF scalarization when we maximize the min income and biodiversity, relaxed income and biodiversity \n",
    "#and (1-risk) for both objectives\n",
    "model.asf = Var()\n",
    "model.epsilon_sum = Var()\n",
    "model.minINCOME1 =  Var(options_sims)\n",
    "model.minINCOME2 =  Var(options_sims)\n",
    "model.minINCOME3 =  Var(options_sims)\n",
    "model.minINCOME4 =  Var(options_sims)\n",
    "model.minINCOME5 =  Var(options_sims)\n",
    "model.minINCOME6 =  Var(options_sims)\n",
    "\n",
    "model.minBIO1 =  Var(options_sims)\n",
    "model.minBIO2 =  Var(options_sims)\n",
    "model.minBIO3 =  Var(options_sims)\n",
    "model.minBIO4 =  Var(options_sims)\n",
    "model.minBIO5 =  Var(options_sims)\n",
    "model.minBIO6 =  Var(options_sims)"
   ]
  },
  {
   "cell_type": "markdown",
   "metadata": {},
   "source": [
    "## Area constraint, each stand must be assigned to schedules summing to one.\n",
    "Each stand must have some form of management. <p>\n",
    "\n",
    "For each scenario, the management must be the "
   ]
  },
  {
   "cell_type": "code",
   "execution_count": 5,
   "metadata": {
    "collapsed": false,
    "scrolled": true
   },
   "outputs": [],
   "source": [
    "#For each simulation and stand, a single branch needs to be selected\n",
    "def onlyOneAlternativerule(model,stand):\n",
    "    return sum(model.alternative[idx] \n",
    "               for idx in forest_data[(forest_data[\"ID\"] == stand)&(forest_data[\"SIMULATION\"] == 0)].index.values\n",
    "              )==1\n",
    "model.alternative_const = Constraint(stands,rule = onlyOneAlternativerule)\n",
    "\n",
    "#Requires that each scneario has the same branch\n",
    "for stand in stands:\n",
    "    def onlyOneAlternativerule2(model,sim,branch):\n",
    "        return sum(model.alternative[idx] -model.alternative[idd]\n",
    "               for idx in forest_data[(forest_data[\"ID\"] == stand)&(forest_data[\"SIMULATION\"] == 0)&(forest_data[\"BRANCH\"] == branch)].index.values\n",
    "                for idd in forest_data[(forest_data[\"ID\"] == stand)&(forest_data[\"SIMULATION\"] == sim)&(forest_data[\"BRANCH\"] == branch)].index.values\n",
    "              )==0\n",
    "    setattr(model,\"onlyOneAlternativerule2\"+str(stand),Constraint(options_sims,options[stand],rule=onlyOneAlternativerule2))"
   ]
  },
  {
   "cell_type": "markdown",
   "metadata": {},
   "source": [
    "## Equations to evaluate the income and biodiversity for each period"
   ]
  },
  {
   "cell_type": "code",
   "execution_count": 6,
   "metadata": {
    "collapsed": false
   },
   "outputs": [],
   "source": [
    "#this section calculates the values for each of the six periods of either income or biodiversity\n",
    "def incomeDummyConstraint1a(model,option_sim):\n",
    "    return model.minINCOME1[option_sim] == sum([model.alternative[idx]*forest_data.at[idx,income_periods[0]] \n",
    "                                   for idx in forest_data[forest_data[\"SIMULATION\"]==option_sim].index.values])\n",
    "model.incomeDummy_const1a = Constraint(options_sims,rule = incomeDummyConstraint1a)\n",
    "\n",
    "def incomeDummyConstraint2(model,option_sim):\n",
    "    return model.minINCOME2[option_sim] == sum([model.alternative[idx]*forest_data.at[idx,income_periods[1]] \n",
    "                                   for idx in forest_data[forest_data[\"SIMULATION\"]==option_sim].index.values])\n",
    "model.incomeDummy_const2 = Constraint(options_sims,rule = incomeDummyConstraint2)\n",
    "def incomeDummyConstraint3(model,option_sim):\n",
    "    return model.minINCOME3[option_sim] == sum([model.alternative[idx]*forest_data.at[idx,income_periods[2]] \n",
    "                                   for idx in forest_data[forest_data[\"SIMULATION\"]==option_sim].index.values])\n",
    "model.incomeDummy_const3 = Constraint(options_sims,rule = incomeDummyConstraint3)\n",
    "def incomeDummyConstraint4(model,option_sim):\n",
    "    return model.minINCOME4[option_sim] == sum([model.alternative[idx]*forest_data.at[idx,income_periods[3]] \n",
    "                                   for idx in forest_data[forest_data[\"SIMULATION\"]==option_sim].index.values])\n",
    "model.incomeDummy_const4 = Constraint(options_sims,rule = incomeDummyConstraint4)\n",
    "def incomeDummyConstraint5(model,option_sim):\n",
    "    return model.minINCOME5[option_sim] == sum([model.alternative[idx]*forest_data.at[idx,income_periods[4]] \n",
    "                                   for idx in forest_data[forest_data[\"SIMULATION\"]==option_sim].index.values])\n",
    "model.incomeDummy_const5 = Constraint(options_sims,rule = incomeDummyConstraint5)\n",
    "def incomeDummyConstraint6(model,option_sim):\n",
    "    return model.minINCOME6[option_sim] == sum([model.alternative[idx]*forest_data.at[idx,income_periods[5]] \n",
    "                                   for idx in forest_data[forest_data[\"SIMULATION\"]==option_sim].index.values])\n",
    "model.incomeDummy_const6 = Constraint(options_sims,rule = incomeDummyConstraint6)\n",
    "\n",
    "def BIODummyConstraint1(model,option_sim):\n",
    "    return model.minBIO1[option_sim] == sum([model.alternative[idx]*forest_data.at[idx,biodiversity_periods[0]] \n",
    "                                   for idx in forest_data[forest_data[\"SIMULATION\"]==option_sim].index.values])\n",
    "model.BIODummy_const1 = Constraint(options_sims,rule = BIODummyConstraint1)\n",
    "\n",
    "def BIODummyConstraint2(model,option_sim):\n",
    "    return model.minBIO2[option_sim] == sum([model.alternative[idx]*forest_data.at[idx,biodiversity_periods[1]] \n",
    "                                   for idx in forest_data[forest_data[\"SIMULATION\"]==option_sim].index.values])\n",
    "model.BIODummy_const2 = Constraint(options_sims,rule = BIODummyConstraint2)\n",
    "def BIODummyConstraint3(model,option_sim):\n",
    "    return model.minBIO3[option_sim] == sum([model.alternative[idx]*forest_data.at[idx,biodiversity_periods[2]] \n",
    "                                   for idx in forest_data[forest_data[\"SIMULATION\"]==option_sim].index.values])\n",
    "model.BIODummy_const3 = Constraint(options_sims,rule = BIODummyConstraint3)\n",
    "def BIODummyConstraint4(model,option_sim):\n",
    "    return model.minBIO4[option_sim] == sum([model.alternative[idx]*forest_data.at[idx,biodiversity_periods[3]] \n",
    "                                   for idx in forest_data[forest_data[\"SIMULATION\"]==option_sim].index.values])\n",
    "model.BIODummy_const4 = Constraint(options_sims,rule = BIODummyConstraint4)\n",
    "def BIODummyConstraint5(model,option_sim):\n",
    "    return model.minBIO5[option_sim] == sum([model.alternative[idx]*forest_data.at[idx,biodiversity_periods[4]] \n",
    "                                   for idx in forest_data[forest_data[\"SIMULATION\"]==option_sim].index.values])\n",
    "model.BIODummy_const5 = Constraint(options_sims,rule = BIODummyConstraint5)\n",
    "def BIODummyConstraint6(model,option_sim):\n",
    "    return model.minBIO6[option_sim] == sum([model.alternative[idx]*forest_data.at[idx,biodiversity_periods[5]] \n",
    "                                   for idx in forest_data[forest_data[\"SIMULATION\"]==option_sim].index.values])\n",
    "model.BIODummy_const6 = Constraint(options_sims,rule = BIODummyConstraint6)\n"
   ]
  },
  {
   "cell_type": "markdown",
   "metadata": {},
   "source": [
    "## Constraints requiring that the risk level is met, for both income and biodiversity."
   ]
  },
  {
   "cell_type": "code",
   "execution_count": 7,
   "metadata": {
    "collapsed": false
   },
   "outputs": [],
   "source": [
    "#Risk is the proportion of either incomes or biodiversities that are relaxed \n",
    "def relaxationLimitIncome(model):\n",
    "    return model.risk[0]*len(options_sims)>=summation(model.relaxationIncome)\n",
    "model.incomeRelaxationLimit = Constraint(rule = relaxationLimitIncome)\n",
    "def relaxationLimitBiodiversity(model):\n",
    "    return model.risk[1]*len(options_sims)>=summation(model.relaxationBiodiversity)\n",
    "model.biodiversityRelaxationLimit = Constraint(rule = relaxationLimitBiodiversity)\n"
   ]
  },
  {
   "cell_type": "markdown",
   "metadata": {},
   "source": [
    "## Evaluating and constraining the income and biodiversity risk values."
   ]
  },
  {
   "cell_type": "code",
   "execution_count": 8,
   "metadata": {
    "collapsed": false
   },
   "outputs": [],
   "source": [
    "#Min income and biodiversity must be less than incomes and biodiversities in all periods\n",
    "def incomeDummyConstraint(model,option_sim,incomeperiod):\n",
    "    return model.minIncome[option_sim] <= sum([model.alternative[idx]*forest_data.at[idx,incomeperiod] \n",
    "                                   for idx in forest_data[forest_data[\"SIMULATION\"]==option_sim].index.values])\n",
    "model.incomeDummy_const = Constraint(options_sims,income_periods,rule = incomeDummyConstraint)\n",
    "def biodiversityDummyConstraint(model,option_sim,biodiversityperiod):\n",
    "    return model.minBiodiversity[option_sim] <= sum([model.alternative[idx]*forest_data.at[idx,biodiversityperiod] \n",
    "                                   for idx in forest_data[forest_data[\"SIMULATION\"]==option_sim].index.values])\n",
    "model.biodiversityDummy_const = Constraint(options_sims,biodiversity_periods,rule = biodiversityDummyConstraint)\n",
    "\n",
    "#Relaxed income and biodiversity are calculated by adding relaxationNO in relaxed simulations\n",
    "def incomeDummyConstraintRelaxed_all(model,option_sim):\n",
    "    return model.minIncomeRelaxed_all[option_sim] == model.minIncome[option_sim]+model.relaxationIncome[option_sim]*relaxationNO                                   \n",
    "model.incomeDummyRelaxed_const_all = Constraint(options_sims,rule = incomeDummyConstraintRelaxed_all)\n",
    "def biodiversityDummyConstraintRelaxed_all(model,option_sim):\n",
    "    return model.minBiodiversityRelaxed_all[option_sim] == model.minBiodiversity[option_sim]+model.relaxationBiodiversity[option_sim]*relaxationNO\n",
    "model.biodiversityDummyRelaxed_const_all = Constraint(options_sims,rule = biodiversityDummyConstraintRelaxed_all)\n",
    "                          \n",
    "#Then finally, relaxed simulations in all is taken as a minimum.    \n",
    "def incomeDummyConstraintRelaxed(model,option_sim):\n",
    "    return model.minIncomeRelaxed <= model.minIncomeRelaxed_all[option_sim]\n",
    "model.incomeDummyRelaxed_const = Constraint(options_sims,rule = incomeDummyConstraintRelaxed)\n",
    "def biodiversityDummyConstraintRelaxed(model,option_sim):\n",
    "    return model.minBiodiversityRelaxed <= model.minBiodiversityRelaxed_all[option_sim]\n",
    "model.biodiversityDummyRelaxed_const = Constraint(options_sims,rule = biodiversityDummyConstraintRelaxed)"
   ]
  },
  {
   "cell_type": "markdown",
   "metadata": {},
   "source": [
    "## Define the Acheivement Scalarization Function problem"
   ]
  },
  {
   "cell_type": "code",
   "execution_count": 9,
   "metadata": {
    "collapsed": false,
    "scrolled": true
   },
   "outputs": [],
   "source": [
    "#parameter values for the nadir, ideal and reference\n",
    "#Initial values are unknown, and need to be calculated\n",
    "model.nadir = Param(range(6),default = 0,mutable=True)\n",
    "model.ideal = Param(range(6),default=1,mutable=True)\n",
    "model.reference = Param(range(6),default = 0,mutable=True)\n",
    "#Add constraints which will linearize the max-min objective\n",
    "#First the mean income and biodiversity\n",
    "def asfDummyIncomeMean(model):\n",
    "    return model.asf <= (sum(model.minIncome[option] for option in options_sims)/len(options_sims)\n",
    "                         -model.reference[0])/(model.ideal[0]-model.nadir[0])\n",
    "model.asfDummyIncomeMean_constraint = Constraint(rule=asfDummyIncomeMean)\n",
    "\n",
    "def asfDummyBiodiversityMean(model):\n",
    "    return model.asf <= (sum(model.minBiodiversity[option] for option in options_sims)/len(options_sims)\n",
    "                         -model.reference[1])/(model.ideal[1]-model.nadir[1])\n",
    "model.asfDummyBiodiversityMean_constraint = Constraint(rule=asfDummyBiodiversityMean)\n",
    "\n",
    "#Then relaxed income and biodiversity\n",
    "def asfDummyIncomeVaR(model):\n",
    "    return model.asf <= (model.minIncomeRelaxed-model.reference[2])/(model.ideal[2]-model.nadir[2])\n",
    "model.asfDummyIncomeMeanRelaxed_constraint = Constraint(rule=asfDummyIncomeVaR)\n",
    "\n",
    "def asfDummyBiodiversityVaR(model):\n",
    "    return model.asf <= (model.minBiodiversityRelaxed-model.reference[3])/(model.ideal[3]-model.nadir[3])\n",
    "model.asfDummyBiodiversityMeanRelaxed_constraint = Constraint(rule=asfDummyBiodiversityVaR)\n",
    "\n",
    "#Finally, (1-risk)\n",
    "def asfDummyRisk(model,risk_no):\n",
    "    return model.asf <= ((1-model.risk[risk_no])-\n",
    "                         model.reference[4+risk_no])/(model.ideal[4+risk_no]-model.nadir[4+risk_no])\n",
    "model.asfDummyRisk_constraint = Constraint(range(2),rule=asfDummyRisk)\n",
    "\n",
    "#a function to ensure efficiency\n",
    "def epsilon_sum_function(model):\n",
    "    return model.epsilon_sum == (sum(model.minIncome[option] for option in options_sims)/len(options_sims)\n",
    "                         -model.reference[0])/(model.ideal[0]-model.nadir[0])+(sum(model.minBiodiversity[option] for option in options_sims)/len(options_sims)\n",
    "                         -model.reference[1])/(model.ideal[1]-model.nadir[1])+ (model.minIncomeRelaxed-model.reference[2])/(model.ideal[2]-model.nadir[2])+ (model.minBiodiversityRelaxed-model.reference[3])/(model.ideal[3]-model.nadir[3])\n",
    "model.epsilon_sum_constraint = Constraint(rule=epsilon_sum_function)\n",
    "\n",
    "model.objective = Objective(expr=model.asf*1000+model.epsilon_sum/1000,sense=maximize)"
   ]
  },
  {
   "cell_type": "markdown",
   "metadata": {},
   "source": [
    "## A function to automate the solving process"
   ]
  },
  {
   "cell_type": "code",
   "execution_count": 10,
   "metadata": {
    "collapsed": true
   },
   "outputs": [],
   "source": [
    "def solveASF(nadir,ideal,reference,model,solver):\n",
    "    for i in range(6):\n",
    "        model.nadir[i] = nadir[i]\n",
    "        model.ideal[i] = ideal[i]\n",
    "        model.reference[i] = reference[i]\n",
    "    model.preprocess() #This is a must after changing parameter value\n",
    "    opt = SolverFactory(solver)\n",
    "    if solver == \"cbc\":\n",
    "        opt.options[\"ratio\"] = 0.005\n",
    "        #opt.options[\"threads\"] = 8\n",
    "    opt.solve(model,tee=False)"
   ]
  },
  {
   "cell_type": "markdown",
   "metadata": {},
   "source": [
    "## Calculate Ideal and Nadir"
   ]
  },
  {
   "cell_type": "code",
   "execution_count": 11,
   "metadata": {
    "collapsed": false
   },
   "outputs": [],
   "source": [
    "relaxationNO = 1000000.0\n",
    "\n",
    "def calculateIdealandNadir(model,solver):\n",
    "    trade_off_table = []\n",
    "    a= []\n",
    "    b1=[]\n",
    "    b2=[]\n",
    "    for i in range(6):\n",
    "        reference = [-relaxationNO]*6\n",
    "        reference[i] = 0\n",
    "        print(reference)\n",
    "        solveASF([0,0,0,0,0,0],[1,1,1,1,1,1],reference,model,solver)\n",
    "        trade_off_table.append([sum([value(model.minIncome[option]) for option in options_sims])/len(options_sims),\n",
    "                               sum([value(model.minBiodiversity[option]) for option in options_sims])/len(options_sims),\n",
    "                               value(model.minIncomeRelaxed),\n",
    "                               value(model.minBiodiversityRelaxed),\n",
    "                               (1-value(model.risk[0])),\n",
    "                               (1-value(model.risk[1]))])\n",
    "        a.append(trade_off_table[i][i])\n",
    "        b1.append(sum([value(model.minIncome[option]) for option in options_sims])/len(options_sims))\n",
    "        b2.append(sum([value(model.minBiodiversity[option]) for option in options_sims])/len(options_sims))\n",
    "    \n",
    "    print(\"Trade-off table:\")\n",
    "    print(\"Income, BD, VaR Income, VaR BD,1-delta for Income, 1-delta for BD\")\n",
    "    for objectives in trade_off_table:\n",
    "        for i in objectives[:-1]:\n",
    "            print(round(i,2), end=\", \")\n",
    "        print(round(i,2))\n",
    "\n",
    "    return a, b1,b2, trade_off_table\n",
    "        "
   ]
  },
  {
   "cell_type": "code",
   "execution_count": 12,
   "metadata": {
    "collapsed": false,
    "scrolled": true
   },
   "outputs": [
    {
     "name": "stdout",
     "output_type": "stream",
     "text": [
      "[0, -1000000.0, -1000000.0, -1000000.0, -1000000.0, -1000000.0]\n",
      "[-1000000.0, 0, -1000000.0, -1000000.0, -1000000.0, -1000000.0]\n",
      "[-1000000.0, -1000000.0, 0, -1000000.0, -1000000.0, -1000000.0]\n",
      "[-1000000.0, -1000000.0, -1000000.0, 0, -1000000.0, -1000000.0]\n",
      "[-1000000.0, -1000000.0, -1000000.0, -1000000.0, 0, -1000000.0]\n",
      "[-1000000.0, -1000000.0, -1000000.0, -1000000.0, -1000000.0, 0]\n",
      "Trade-off table:\n",
      "Income, BD, VaR Income, VaR BD,1-delta for Income, 1-delta for BD\n",
      "5692.41, 30083.48, 5245.48, 29981.2, 0.08, 0.08\n",
      "1143.56, 42910.98, 1259.1, 42690.92, 0.04, 0.04\n",
      "5414.69, 32911.23, 6039.32, 33368.14, 0.04, 0.04\n",
      "280.37, 42784.02, 388.02, 43229.56, 0.04, 0.04\n",
      "4228.57, 41215.69, 3652.59, 41631.64, 1.0, 1.0\n",
      "4107.73, 41352.13, 4782.18, 41186.32, 0.04, 0.04\n"
     ]
    }
   ],
   "source": [
    "a, b1,b2,trade_off_table = calculateIdealandNadir(model,\"cplex\")"
   ]
  },
  {
   "cell_type": "code",
   "execution_count": 13,
   "metadata": {
    "collapsed": false,
    "scrolled": true
   },
   "outputs": [],
   "source": [
    "#To aid in computability, the income and biodiveristy values are adjusted to be of similar magnitude in the optimization\n",
    "#We have found rounding errors can impact the solution, and ensuring similar magintude of values avoids these types of errors\n",
    "areas = sum(forest_data[(forest_data[\"BRANCH\"] == 1)&(forest_data[\"SIMULATION\"] == 0)].AREA.values)\n",
    "multipliers = [1000/areas,0.001/areas,1000/areas,0.001/areas,1,1]\n",
    "\n",
    "#creates the nadir and ideal vectors\n",
    "b= [b1[1],b2[0],b1[1],b2[0],0.04,0.04]\n",
    "b[4], b[5] =0.04, 0.04\n",
    "a[4], a[5] =1, 1"
   ]
  },
  {
   "cell_type": "markdown",
   "metadata": {},
   "source": [
    "## A simple function to print the results of a single optimization"
   ]
  },
  {
   "cell_type": "code",
   "execution_count": 14,
   "metadata": {
    "collapsed": false
   },
   "outputs": [],
   "source": [
    "def print_results():\n",
    "    result = [round(sum([value(model.minIncome[option]) for option in options_sims])/len(options_sims),2),\n",
    "                               round(sum([value(model.minBiodiversity[option]) for option in options_sims])/len(options_sims),2),\n",
    "                               round(value(model.minIncomeRelaxed),2),\n",
    "                               round(value(model.minBiodiversityRelaxed),2),\n",
    "                               (round(1-value(model.risk[0]),2)),\n",
    "                               (round(1-value(model.risk[1]),2))]\n",
    "    result_ha = [result[i]*multipliers[i] for i in range(0,len(result))]\n",
    "    print(result_ha)"
   ]
  },
  {
   "cell_type": "markdown",
   "metadata": {},
   "source": [
    "## Optimizing - using the same reference points as in the manuscript"
   ]
  },
  {
   "cell_type": "markdown",
   "metadata": {},
   "source": [
    "## Round 1- initial preferences"
   ]
  },
  {
   "cell_type": "code",
   "execution_count": 15,
   "metadata": {
    "collapsed": false,
    "scrolled": true
   },
   "outputs": [
    {
     "name": "stdout",
     "output_type": "stream",
     "text": [
      "[269.5732544740992, 0.0020456944899165334, 263.55251353178517, 0.0020363907231267025, 1.0, 1.0]\n"
     ]
    }
   ],
   "source": [
    "# Income, BD, Var Income, Var BD,VAR alpha INCOME, VAR alpha BD\n",
    "#Reference value provided by decision maker, in per hectare values.\n",
    "c = [250,.002,250,0.002,.95,.8]\n",
    "\n",
    "#Converstion to values used by optimization, scaled to similar magnitude.\n",
    "c1 = [areas*c[0]/1000,areas*c[1]*1000,areas*c[2]/1000,areas*c[3]*1000,1*c[4],1*c[5]]\n",
    "solveASF(b,a,c1,model,\"cplex\")\n",
    "print_results()"
   ]
  },
  {
   "cell_type": "markdown",
   "metadata": {},
   "source": [
    "## Round 2- modified preferences"
   ]
  },
  {
   "cell_type": "code",
   "execution_count": 16,
   "metadata": {
    "collapsed": false,
    "scrolled": true
   },
   "outputs": [
    {
     "name": "stdout",
     "output_type": "stream",
     "text": [
      "[237.1607486808368, 0.0021585780676653035, 234.1907715987702, 0.0021445424279403187, 0.92, 0.92]\n"
     ]
    }
   ],
   "source": [
    "# Income, BD, Var Income, Var BD,VAR alpha INCOME, VAR alpha BD\n",
    "#Reference value provided by decision maker, in per hectare values.\n",
    "c = [250,.0022,250,0.0021,.95,.95]\n",
    "\n",
    "#Converstion to values used by optimization, scaled to similar magnitude.\n",
    "c1 = [areas*c[0]/1000,areas*c[1]*1000,areas*c[2]/1000,areas*c[3]*1000,1*c[4],1*c[5]]\n",
    "solveASF(b,a,c1,model,\"cplex\")\n",
    "print_results()"
   ]
  },
  {
   "cell_type": "markdown",
   "metadata": {},
   "source": [
    "## Round 3 - further modified preferences"
   ]
  },
  {
   "cell_type": "code",
   "execution_count": 17,
   "metadata": {
    "collapsed": false,
    "scrolled": true
   },
   "outputs": [
    {
     "name": "stdout",
     "output_type": "stream",
     "text": [
      "[302.49599255060849, 0.0015879252467185677, 298.87334333955516, 0.0015825518629856235, 0.8, 0.8]\n"
     ]
    }
   ],
   "source": [
    "# Income, BD, Var Income, Var BD,VAR alpha INCOME, VAR alpha BD\n",
    "#Reference value provided by decision maker, in per hectare values.\n",
    "c = [350,.0,350,0.0,.95,.95]\n",
    "\n",
    "#Converstion to values used by optimization, scaled to similar magnitude.\n",
    "c1 = [areas*c[0]/1000,areas*c[1]*1000,areas*c[2]/1000,areas*c[3]*1000,1*c[4],1*c[5]]\n",
    "solveASF(b,a,c1,model,\"cplex\")\n",
    "print_results()"
   ]
  }
 ],
 "metadata": {
  "anaconda-cloud": {},
  "kernelspec": {
   "display_name": "Python [conda root]",
   "language": "python",
   "name": "conda-root-py"
  },
  "language_info": {
   "codemirror_mode": {
    "name": "ipython",
    "version": 3
   },
   "file_extension": ".py",
   "mimetype": "text/x-python",
   "name": "python",
   "nbconvert_exporter": "python",
   "pygments_lexer": "ipython3",
   "version": "3.5.2"
  }
 },
 "nbformat": 4,
 "nbformat_minor": 0
}
